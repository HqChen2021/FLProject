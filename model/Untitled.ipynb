{
 "cells": [
  {
   "cell_type": "code",
   "execution_count": 1,
   "id": "4c3e21e4-a431-443e-b4dd-198f12f2f4d7",
   "metadata": {},
   "outputs": [],
   "source": [
    "import torch\n",
    "state = torch.load('../save/mnist_mlp_10_C[0.3]_iid[0]_E[5]_B[512].pkl')"
   ]
  },
  {
   "cell_type": "code",
   "execution_count": 2,
   "id": "05147dc2-28f4-4338-b090-9afe125d2add",
   "metadata": {},
   "outputs": [
    {
     "data": {
      "text/plain": [
       "{'epoch': 10,\n",
       " 'state_dict': OrderedDict([('_module.layer_input.weight',\n",
       "               tensor([[-0.0154,  0.0288, -0.0159,  ..., -0.0303,  0.0004, -0.0044],\n",
       "                       [-0.0166, -0.0334, -0.0027,  ...,  0.0074,  0.0200,  0.0108],\n",
       "                       [ 0.0184,  0.0125, -0.0151,  ..., -0.0072,  0.0073, -0.0319],\n",
       "                       ...,\n",
       "                       [-0.0284, -0.0247, -0.0090,  ...,  0.0070, -0.0121,  0.0237],\n",
       "                       [-0.0191, -0.0033, -0.0285,  ..., -0.0325,  0.0010,  0.0271],\n",
       "                       [ 0.0145, -0.0110, -0.0108,  ..., -0.0174, -0.0063,  0.0032]],\n",
       "                      device='cuda:0')),\n",
       "              ('_module.layer_input.bias',\n",
       "               tensor([ 3.9985e-02,  3.6999e-03, -3.3634e-02,  1.4185e-02,  3.6188e-02,\n",
       "                        1.8761e-03, -2.8012e-02, -5.7739e-03, -2.0927e-02, -1.1846e-02,\n",
       "                        7.5889e-03,  1.6918e-02,  3.2293e-02,  2.7728e-02,  1.3523e-02,\n",
       "                        1.3408e-02, -2.2753e-02, -2.0736e-03,  2.7973e-02,  3.0440e-02,\n",
       "                        6.2594e-03, -1.9525e-02,  1.7769e-06, -2.1014e-02,  8.4231e-03,\n",
       "                        1.2565e-02, -7.7470e-03,  3.7059e-02, -2.7355e-02, -5.5089e-03,\n",
       "                        3.1172e-02, -1.8399e-02,  3.2433e-02, -1.4886e-02,  2.0191e-02,\n",
       "                        7.9636e-04, -2.6072e-02,  2.3559e-02, -4.8567e-04,  3.1459e-02,\n",
       "                       -9.9456e-03,  3.4371e-02,  3.5277e-02, -2.6251e-02,  2.8794e-02,\n",
       "                       -2.5633e-02,  1.4215e-02,  1.9755e-02, -2.7704e-02,  3.3238e-02,\n",
       "                        3.5381e-02,  1.6675e-02, -1.7811e-03,  2.2321e-02, -2.1445e-02,\n",
       "                        3.3054e-02, -2.5820e-02,  1.4522e-02, -1.5938e-02,  3.1251e-03,\n",
       "                       -3.2978e-02,  3.7231e-02, -1.1595e-02, -1.4074e-02], device='cuda:0')),\n",
       "              ('_module.layer_hidden.weight',\n",
       "               tensor([[ 4.6283e-02, -3.2968e-02, -4.6324e-02, -7.8028e-02,  6.2904e-02,\n",
       "                        -1.2272e-01,  2.0774e-02, -1.1816e-01, -4.7741e-02,  1.3909e-01,\n",
       "                         7.4576e-02,  8.5464e-02,  4.1394e-02, -8.9425e-03,  6.8174e-02,\n",
       "                         1.6467e-02,  1.6803e-02, -8.2859e-02, -6.2524e-02,  7.9854e-02,\n",
       "                         6.1288e-02,  5.9952e-03,  7.7175e-02,  3.5857e-02, -1.3929e-01,\n",
       "                        -1.1796e-01,  1.0114e-02,  5.3556e-02, -1.1880e-01, -1.1687e-01,\n",
       "                         4.3655e-02,  7.6717e-02,  1.3418e-01, -1.0993e-01, -3.2691e-02,\n",
       "                         9.8945e-02, -6.1998e-02,  1.0894e-01, -6.8615e-02, -8.9346e-02,\n",
       "                         5.6590e-02, -6.6064e-02, -1.2692e-01, -3.6473e-02,  1.1152e-04,\n",
       "                         1.4080e-01, -1.3554e-01,  3.6078e-02,  6.0669e-02,  1.5799e-01,\n",
       "                         3.4471e-02,  2.4591e-02,  1.2106e-01,  6.3653e-02,  1.4209e-01,\n",
       "                         1.2262e-01,  1.2733e-01, -7.7372e-02, -4.7038e-02, -1.2748e-01,\n",
       "                         5.5424e-03, -1.0889e-01, -7.5575e-02,  1.3661e-01],\n",
       "                       [ 1.2403e-01,  7.7455e-02, -6.6351e-02, -9.4969e-02,  1.2990e-01,\n",
       "                         1.2526e-01, -5.3736e-02,  1.2305e-01,  2.9710e-02, -6.7437e-02,\n",
       "                        -5.4692e-02,  2.0055e-02, -2.4786e-03,  3.8085e-02,  1.2225e-01,\n",
       "                         1.5290e-01, -4.8634e-02,  1.9769e-02, -1.0143e-01,  3.3435e-02,\n",
       "                         5.9881e-02,  1.1698e-01,  8.4342e-02, -7.6781e-02,  1.3650e-01,\n",
       "                         6.3381e-02, -3.9490e-02, -8.1817e-02, -1.2026e-01,  1.5136e-01,\n",
       "                        -3.0135e-03, -1.1102e-02, -2.0138e-02,  5.9887e-03, -1.6018e-01,\n",
       "                        -4.7795e-02,  1.8735e-01,  1.0915e-02,  1.5505e-01, -4.3208e-02,\n",
       "                        -5.2603e-02, -2.3831e-02,  1.3641e-01,  3.4341e-03,  3.4420e-02,\n",
       "                        -1.2700e-01,  1.6304e-01, -3.1259e-02,  7.1591e-02,  1.7566e-02,\n",
       "                        -1.2294e-01, -1.1834e-01, -5.0655e-02,  1.6645e-01,  1.9565e-02,\n",
       "                        -1.1024e-01,  5.3873e-02,  3.6873e-02, -1.4861e-01,  1.0297e-01,\n",
       "                        -1.0985e-02, -5.5559e-02, -1.1455e-01, -9.3288e-02],\n",
       "                       [-8.3357e-02, -8.5941e-02,  1.1626e-01,  7.8202e-02,  9.4370e-02,\n",
       "                        -7.3075e-02,  1.1513e-01, -1.1207e-01, -1.2083e-01, -8.3429e-02,\n",
       "                        -3.5511e-03,  4.4178e-02,  8.4369e-02, -9.1687e-02, -2.5006e-02,\n",
       "                         9.1455e-02,  1.1365e-01,  4.1763e-02, -9.5312e-02, -6.6684e-02,\n",
       "                        -8.0122e-03, -4.1004e-02, -6.3343e-02,  1.3164e-01, -8.4286e-02,\n",
       "                         3.3400e-02,  9.9377e-02,  6.0680e-02, -1.2402e-01, -2.8549e-02,\n",
       "                         3.2280e-02, -8.4738e-02,  1.1946e-01, -9.4493e-02,  8.1138e-02,\n",
       "                        -1.3378e-02, -3.5514e-02,  2.6870e-02,  1.1481e-01, -1.2722e-02,\n",
       "                         3.9541e-02, -1.1674e-01,  9.9665e-02,  4.6872e-02, -6.3620e-02,\n",
       "                        -5.3021e-02,  1.0694e-01, -1.7988e-02,  7.5345e-02,  2.2657e-02,\n",
       "                         6.9692e-02, -7.9289e-03,  5.8128e-02,  1.1398e-01,  6.0211e-03,\n",
       "                        -6.4869e-02,  5.4253e-02, -1.1708e-01, -8.0429e-02,  1.1590e-01,\n",
       "                        -1.0712e-01, -4.1536e-02, -7.7024e-02,  1.1504e-01],\n",
       "                       [ 4.0369e-02, -3.1188e-02,  2.8346e-02,  2.8601e-02,  3.2268e-02,\n",
       "                         6.0792e-02,  7.6931e-02, -2.1261e-02,  2.3836e-02, -1.3356e-01,\n",
       "                        -4.2716e-02, -3.6809e-03,  9.2490e-02,  4.5755e-02,  1.8513e-02,\n",
       "                        -1.0070e-01, -5.2329e-02,  1.2131e-01, -5.3388e-03, -7.7724e-02,\n",
       "                        -6.4224e-02,  1.0734e-01, -1.3313e-01,  6.4380e-02, -7.6048e-02,\n",
       "                        -1.0076e-01,  8.6663e-02,  3.2482e-02,  1.8890e-02,  9.0771e-02,\n",
       "                         4.4089e-02,  3.6264e-02, -1.0791e-03,  1.2071e-01, -1.1270e-01,\n",
       "                         7.0214e-02, -1.2381e-01, -7.4780e-02,  1.2933e-01, -1.7800e-03,\n",
       "                         6.8840e-02, -1.1753e-01, -4.1750e-02,  7.4746e-02, -3.3146e-02,\n",
       "                         5.7480e-02, -8.8449e-02, -8.9879e-02,  5.4171e-02, -1.4992e-02,\n",
       "                         1.1869e-01,  1.6984e-02,  8.0148e-02,  9.4909e-02, -5.3212e-02,\n",
       "                         4.6187e-02, -6.8451e-04,  6.8142e-02,  1.2233e-01,  1.1356e-01,\n",
       "                         9.6647e-02,  1.0579e-02, -1.0943e-01, -7.9026e-02],\n",
       "                       [-9.3798e-02,  2.6765e-03,  2.2519e-02,  1.2239e-03, -6.6934e-02,\n",
       "                         1.4085e-01, -1.2117e-02, -8.1643e-03, -1.7516e-02, -5.1370e-02,\n",
       "                         1.1485e-01, -7.9876e-02, -7.8745e-02, -6.5514e-02,  1.5206e-02,\n",
       "                        -1.2339e-01, -4.2582e-02, -2.7587e-02, -1.2229e-01, -7.3893e-03,\n",
       "                         6.5965e-02,  9.5382e-02, -1.1615e-01, -7.0027e-02,  6.3253e-02,\n",
       "                        -9.3973e-02,  1.6533e-02, -6.1953e-02, -7.2798e-02,  4.0787e-02,\n",
       "                        -6.5329e-03, -2.2125e-02, -8.0422e-03,  2.9603e-02,  1.1925e-01,\n",
       "                        -7.3193e-02, -6.4289e-02,  6.9465e-02,  9.6388e-02,  1.2342e-01,\n",
       "                        -6.1773e-02,  1.4097e-01, -6.0740e-02,  5.1203e-02, -5.5623e-03,\n",
       "                         3.3743e-02, -2.0208e-02,  7.6111e-02,  5.4341e-02, -4.9645e-02,\n",
       "                        -1.0688e-01,  1.0370e-01, -7.7800e-02, -3.4160e-02,  6.3720e-03,\n",
       "                        -8.8766e-02,  1.2446e-01, -9.8523e-02,  1.1811e-01, -7.4623e-02,\n",
       "                         7.2940e-02,  6.8467e-02, -9.1361e-02,  4.9357e-02],\n",
       "                       [-3.4888e-02, -8.1910e-02, -1.0214e-01, -5.8438e-02,  9.4681e-02,\n",
       "                        -1.3483e-01,  1.0478e-02,  4.0578e-02, -8.3641e-02,  4.9987e-02,\n",
       "                        -7.1502e-02,  1.9534e-02,  5.2334e-02, -6.0010e-02, -1.5301e-02,\n",
       "                         8.6737e-02, -4.7244e-02, -1.0307e-01,  2.7706e-02, -1.1294e-01,\n",
       "                        -7.0738e-02, -9.5457e-02, -8.2850e-02, -2.8102e-02,  1.0574e-01,\n",
       "                        -3.4437e-02,  1.0796e-01, -7.5177e-02, -1.1142e-01,  1.2259e-01,\n",
       "                         7.5663e-02, -5.9179e-02,  2.6779e-02,  8.5313e-02, -1.7783e-03,\n",
       "                         4.3307e-02,  7.7033e-02, -6.5679e-02,  1.3811e-02,  9.8258e-02,\n",
       "                         1.0076e-01, -2.8541e-02, -3.5962e-02,  1.3452e-02, -1.0796e-01,\n",
       "                         2.2705e-02, -8.1695e-02,  1.1194e-01, -9.2156e-02,  3.6519e-03,\n",
       "                        -1.6752e-02,  1.0086e-01,  4.1769e-02, -4.6960e-04, -9.8912e-02,\n",
       "                         5.8896e-02, -7.1741e-02,  3.5579e-02,  7.7491e-02, -7.7165e-02,\n",
       "                         2.0477e-02, -7.6684e-02, -8.4224e-02,  1.0331e-02],\n",
       "                       [ 1.5344e-01, -1.1632e-01,  6.1588e-02, -4.6314e-02,  1.4212e-01,\n",
       "                         5.8830e-02,  3.3730e-02,  2.2271e-02, -1.0681e-01, -9.7753e-02,\n",
       "                         1.3140e-01,  5.3732e-02,  9.1566e-02,  3.6518e-02,  3.7039e-02,\n",
       "                         1.5958e-01, -6.8895e-02,  1.2351e-02, -3.0125e-02, -3.4497e-02,\n",
       "                        -1.1769e-01, -1.0877e-01,  1.7471e-01,  6.7041e-02, -1.0433e-02,\n",
       "                         7.8842e-02,  1.6424e-01,  7.7870e-02, -8.5034e-02, -4.4981e-02,\n",
       "                         9.5246e-02, -6.0876e-02, -9.6281e-02, -7.4259e-03, -3.0525e-02,\n",
       "                         3.4991e-02, -3.4905e-02, -6.1378e-02, -1.3639e-01,  2.9101e-02,\n",
       "                        -4.9089e-02,  4.2929e-02,  1.5356e-02, -1.2659e-01, -9.5252e-02,\n",
       "                        -1.3103e-01, -9.0394e-02,  1.4154e-01,  5.8772e-02, -2.3152e-02,\n",
       "                         1.2233e-01, -1.0142e-02, -7.3190e-02, -2.8297e-02, -1.1400e-02,\n",
       "                         3.6794e-02,  1.4803e-01, -1.3396e-01, -1.0118e-01,  1.2298e-01,\n",
       "                         4.3191e-02,  5.6507e-02, -8.0672e-02, -9.9733e-02],\n",
       "                       [ 3.4459e-03, -7.9178e-02, -3.2326e-03, -3.6930e-02, -1.2645e-01,\n",
       "                        -1.3109e-01,  1.4763e-01,  2.8862e-02, -4.1378e-02,  1.2037e-01,\n",
       "                        -8.1174e-02, -1.8725e-02, -5.9308e-02, -5.1351e-02, -1.0868e-01,\n",
       "                         1.0272e-01, -1.2047e-01, -3.9159e-02, -6.1157e-02, -1.2718e-01,\n",
       "                         8.1408e-02, -1.0192e-01,  8.4054e-02, -2.3648e-02,  5.4346e-02,\n",
       "                         1.8647e-03, -1.3358e-01,  1.0410e-02,  7.1719e-02, -8.3722e-02,\n",
       "                         4.6889e-02,  6.1804e-02, -1.5050e-03,  5.8730e-02,  1.0542e-01,\n",
       "                        -2.6184e-02, -7.0525e-02, -1.1355e-01,  1.0770e-01, -1.1344e-03,\n",
       "                         5.4899e-02, -1.8842e-02,  8.8916e-02,  2.7385e-02, -9.0490e-04,\n",
       "                         1.6068e-02,  1.2803e-01, -7.4672e-02, -5.9668e-02,  1.5079e-01,\n",
       "                        -9.8928e-02,  8.6315e-02,  5.1131e-02, -1.2455e-01, -2.7049e-02,\n",
       "                        -1.2698e-01,  6.6472e-02,  1.2380e-01,  1.4945e-01, -7.6535e-02,\n",
       "                        -1.1208e-01,  4.8308e-02,  1.4646e-02,  1.2577e-02],\n",
       "                       [ 2.5498e-02,  2.7560e-02,  1.2695e-01, -7.3674e-02,  4.2812e-02,\n",
       "                         1.1853e-01, -2.4270e-02,  7.2578e-02, -1.0098e-01, -1.0928e-01,\n",
       "                         7.8164e-02,  3.7701e-02,  9.6210e-02,  1.1162e-01,  9.1447e-02,\n",
       "                         4.9670e-02, -3.7840e-02,  8.0888e-03, -4.3855e-02,  4.8725e-02,\n",
       "                         1.1406e-01,  1.2913e-01, -1.0130e-01, -4.8289e-02,  3.1092e-02,\n",
       "                        -5.0948e-02,  1.8014e-02, -8.1591e-03, -1.0085e-01,  1.9953e-02,\n",
       "                        -6.9114e-02, -7.0502e-02, -1.1593e-01,  9.0850e-02,  6.8059e-02,\n",
       "                        -1.2474e-01,  4.9101e-02, -8.0642e-02, -3.9871e-02, -6.3996e-02,\n",
       "                        -1.0088e-01, -1.4931e-02, -1.2403e-02, -6.8300e-02,  2.7883e-02,\n",
       "                        -8.4081e-03,  5.0832e-02, -7.4772e-02,  6.6645e-02, -2.6629e-02,\n",
       "                        -2.3372e-02, -3.0108e-02, -1.0129e-01, -1.2068e-01, -1.1815e-01,\n",
       "                         1.2589e-02,  9.7167e-03, -5.9183e-02,  8.0900e-02, -3.6166e-02,\n",
       "                         6.1736e-02, -7.4946e-02,  4.9544e-02,  3.4959e-02],\n",
       "                       [ 4.3437e-02, -2.3600e-02,  1.0024e-01,  8.0044e-02, -1.8148e-02,\n",
       "                         1.0232e-01,  9.5646e-02, -1.3431e-01, -6.3326e-02,  1.3067e-01,\n",
       "                         3.0403e-02, -6.7478e-02, -8.0296e-02, -4.4790e-02, -1.0845e-01,\n",
       "                        -1.4348e-01,  1.7745e-02, -1.1207e-01,  6.0653e-02, -9.6109e-02,\n",
       "                         3.9060e-02,  8.7867e-02, -1.2379e-01,  1.1949e-01,  8.9504e-02,\n",
       "                         4.2498e-02, -3.6335e-02,  2.1268e-02,  8.7379e-02,  8.6657e-02,\n",
       "                         1.1730e-01, -3.1142e-02,  7.7090e-02,  6.3776e-03,  1.0740e-01,\n",
       "                         1.6407e-02,  1.0249e-01, -3.5367e-02, -2.5076e-02, -1.2702e-01,\n",
       "                         1.2062e-01,  1.0814e-01, -3.7564e-02,  4.8598e-02, -9.4453e-02,\n",
       "                         1.5938e-02, -1.3115e-01, -3.1878e-02,  8.2341e-02, -4.0489e-02,\n",
       "                        -2.9344e-02,  7.4257e-02, -7.7031e-02, -4.9966e-02, -8.0731e-02,\n",
       "                        -5.4180e-02,  7.3404e-02,  1.0455e-01,  3.8034e-02,  6.4083e-02,\n",
       "                        -2.9240e-02,  1.3216e-01, -1.0401e-01,  2.4793e-02]], device='cuda:0')),\n",
       "              ('_module.layer_hidden.bias',\n",
       "               tensor([-0.0031,  0.0477, -0.0308, -0.0223,  0.0564,  0.0711, -0.0746,  0.0788,\n",
       "                       -0.0849, -0.0386], device='cuda:0'))]),\n",
       " 'client_lst': [<client.client at 0x254cd242b50>,\n",
       "  <client.client at 0x254e94abb50>,\n",
       "  <client.client at 0x254e94e1040>,\n",
       "  <client.client at 0x254e94e15b0>,\n",
       "  <client.client at 0x254e9554070>,\n",
       "  <client.client at 0x254e9554430>,\n",
       "  <client.client at 0x254e9554b50>,\n",
       "  <client.client at 0x254e95cf2b0>,\n",
       "  <client.client at 0x254e95cf9d0>,\n",
       "  <client.client at 0x254e963d130>]}"
      ]
     },
     "execution_count": 2,
     "metadata": {},
     "output_type": "execute_result"
    }
   ],
   "source": [
    "state"
   ]
  },
  {
   "cell_type": "code",
   "execution_count": 4,
   "id": "420d1e29-496d-44b9-98fb-c9e0e9212402",
   "metadata": {},
   "outputs": [
    {
     "data": {
      "text/plain": [
       "<client.client at 0x254cd242b50>"
      ]
     },
     "execution_count": 4,
     "metadata": {},
     "output_type": "execute_result"
    }
   ],
   "source": [
    "state['client_lst'][0]"
   ]
  },
  {
   "cell_type": "code",
   "execution_count": 5,
   "id": "af1615bd-552c-4bbe-acbf-c8942532dec2",
   "metadata": {},
   "outputs": [
    {
     "data": {
      "text/plain": [
       "[0.16306046195652174,\n",
       " 0.2174139492753623,\n",
       " 0.22957427536231886,\n",
       " 0.2555763134057971,\n",
       " 0.27758718297101453,\n",
       " 0.30262115036231885,\n",
       " 0.316502490942029,\n",
       " 0.5079596920289855,\n",
       " 0.5007133152173914,\n",
       " 0.5049988677536232]"
      ]
     },
     "execution_count": 5,
     "metadata": {},
     "output_type": "execute_result"
    }
   ],
   "source": [
    "state['client_lst'][0].acc"
   ]
  },
  {
   "cell_type": "code",
   "execution_count": 6,
   "id": "9dcb69c0-5288-4101-967e-d3f9fedbda63",
   "metadata": {
    "tags": []
   },
   "outputs": [
    {
     "name": "stdout",
     "output_type": "stream",
     "text": [
      "\n",
      "Experimental details:\n",
      "    Model     : mlp\n",
      "    Optimizer : sgd\n",
      "    Learning  : 0.01\n",
      "    Global Rounds   : 10\n",
      "\n",
      "    Federated parameters:\n",
      "    Non-IID\n",
      "    Total #users  :      \t10\n",
      "    Fraction of users  : \t0.3\n",
      "    Local Batch size   : \t512\n",
      "    Local Epochs       : \t5\n",
      "\n",
      "\n",
      " Revised global model to compatible with DP\n",
      "\n",
      "MLP(\n",
      "  (layer_input): Linear(in_features=784, out_features=64, bias=True)\n",
      "  (relu): ReLU()\n",
      "  (dropout): Dropout(p=0.5, inplace=False)\n",
      "  (layer_hidden): Linear(in_features=64, out_features=10, bias=True)\n",
      "  (softmax): Softmax(dim=1)\n",
      ")\n"
     ]
    },
    {
     "name": "stderr",
     "output_type": "stream",
     "text": [
      "  0%|                                                                                           | 0/10 [00:00<?, ?it/s]C:\\Users\\hui-q\\anaconda3\\envs\\pytorch\\lib\\site-packages\\opacus\\privacy_engine.py:114: UserWarning: Secure RNG turned off. This is perfectly fine for experimentation as it allows for much faster training performance, but remember to turn it on and retrain one last time before production with ``secure_mode`` turned on.\n",
      "  warnings.warn(\n",
      "C:\\Users\\hui-q\\anaconda3\\envs\\pytorch\\lib\\site-packages\\opacus\\accountants\\analysis\\rdp.py:332: UserWarning: Optimal order is the largest alpha. Please consider expanding the range of alphas to get a tighter privacy bound.\n",
      "  warnings.warn(\n",
      "C:\\Users\\hui-q\\anaconda3\\envs\\pytorch\\lib\\site-packages\\torch\\nn\\modules\\module.py:1033: UserWarning: Using a non-full backward hook when the forward contains multiple autograd Nodes is deprecated and will be removed in future versions. This hook will be missing some grad_input. Please use register_full_backward_hook to get the documented behavior.\n",
      "  warnings.warn(\"Using a non-full backward hook when the forward contains multiple autograd Nodes \"\n"
     ]
    },
    {
     "name": "stdout",
     "output_type": "stream",
     "text": [
      "| Global Round: 0 | Client:1 | Local Epoch: 0 | \tLoss: -0.103953| Accuracy: 0.11916277753470374\n",
      "| Global Round: 0 | Client:1 | Local Epoch: 1 | \tLoss: -0.113245| Accuracy: 0.18676264195917028\n",
      "| Global Round: 0 | Client:1 | Local Epoch: 2 | \tLoss: -0.123917| Accuracy: 0.2699705132958992\n",
      "| Global Round: 0 | Client:1 | Local Epoch: 3 | \tLoss: -0.135744| Accuracy: 0.3379684582476768\n",
      "| Global Round: 0 | Client:1 | Local Epoch: 4 | \tLoss: -0.146884| Accuracy: 0.3775652643838813\n",
      "| Global Round: 0 | Client:8 | Local Epoch: 0 | \tLoss: -0.113567| Accuracy: 0.2116919351858129\n",
      "| Global Round: 0 | Client:8 | Local Epoch: 1 | \tLoss: -0.127820| Accuracy: 0.3035804901285447\n",
      "| Global Round: 0 | Client:8 | Local Epoch: 2 | \tLoss: -0.144916| Accuracy: 0.36678577881832297\n",
      "| Global Round: 0 | Client:8 | Local Epoch: 3 | \tLoss: -0.166819| Accuracy: 0.39907165250279203\n",
      "| Global Round: 0 | Client:8 | Local Epoch: 4 | \tLoss: -0.188193| Accuracy: 0.4199193555375\n",
      "| Global Round: 0 | Client:0 | Local Epoch: 0 | \tLoss: -0.097680| Accuracy: 0.09362995410492363\n",
      "| Global Round: 0 | Client:0 | Local Epoch: 1 | \tLoss: -0.106633| Accuracy: 0.1380977856792911\n",
      "| Global Round: 0 | Client:0 | Local Epoch: 2 | \tLoss: -0.115898| Accuracy: 0.194875103724753\n",
      "| Global Round: 0 | Client:0 | Local Epoch: 3 | \tLoss: -0.125522| Accuracy: 0.25957233952656994\n",
      "| Global Round: 0 | Client:0 | Local Epoch: 4 | \tLoss: -0.137791| Accuracy: 0.33094875230432524\n"
     ]
    },
    {
     "name": "stderr",
     "output_type": "stream",
     "text": [
      " 10%|████████▎                                                                          | 1/10 [00:28<04:18, 28.69s/it]"
     ]
    },
    {
     "name": "stdout",
     "output_type": "stream",
     "text": [
      " \n",
      "Avg Training Stats after 1 global rounds:\n",
      "Training Loss : -0.12990558633555063\n",
      "Train Accuracy: 24.80% \n",
      "\n",
      "accuracy of each client: [0.15, 0.39, 0.38, 0.14, 0.17, 0.23, 0.16, 0.2, 0.47, 0.19]\n",
      "| Global Round: 1 | Client:6 | Local Epoch: 0 | \tLoss: -0.116799| Accuracy: 0.17761752328627142\n",
      "| Global Round: 1 | Client:6 | Local Epoch: 1 | \tLoss: -0.128230| Accuracy: 0.24821201894955458\n",
      "| Global Round: 1 | Client:6 | Local Epoch: 2 | \tLoss: -0.141079| Accuracy: 0.3616878379552971\n",
      "| Global Round: 1 | Client:6 | Local Epoch: 3 | \tLoss: -0.154394| Accuracy: 0.46854024201388006\n",
      "| Global Round: 1 | Client:6 | Local Epoch: 4 | \tLoss: -0.172766| Accuracy: 0.5367956718006487\n",
      "| Global Round: 1 | Client:8 | Local Epoch: 0 | \tLoss: -0.143460| Accuracy: 0.3684762572399486\n",
      "| Global Round: 1 | Client:8 | Local Epoch: 1 | \tLoss: -0.162622| Accuracy: 0.40697171431921714\n",
      "| Global Round: 1 | Client:8 | Local Epoch: 2 | \tLoss: -0.188584| Accuracy: 0.4412904066990255\n",
      "| Global Round: 1 | Client:8 | Local Epoch: 3 | \tLoss: -0.206973| Accuracy: 0.44046969795290775\n",
      "| Global Round: 1 | Client:8 | Local Epoch: 4 | \tLoss: -0.234360| Accuracy: 0.46272296526823914\n",
      "| Global Round: 1 | Client:9 | Local Epoch: 0 | \tLoss: -0.124774| Accuracy: 0.21971098992042673\n",
      "| Global Round: 1 | Client:9 | Local Epoch: 1 | \tLoss: -0.148851| Accuracy: 0.39938050673822334\n",
      "| Global Round: 1 | Client:9 | Local Epoch: 2 | \tLoss: -0.179332| Accuracy: 0.5272286535600321\n",
      "| Global Round: 1 | Client:9 | Local Epoch: 3 | \tLoss: -0.214336| Accuracy: 0.6207432753445107\n",
      "| Global Round: 1 | Client:9 | Local Epoch: 4 | \tLoss: -0.255601| Accuracy: 0.6706362047111609\n"
     ]
    },
    {
     "name": "stderr",
     "output_type": "stream",
     "text": [
      " 20%|████████████████▌                                                                  | 2/10 [00:54<03:36, 27.01s/it]"
     ]
    },
    {
     "name": "stdout",
     "output_type": "stream",
     "text": [
      " \n",
      "Avg Training Stats after 2 global rounds:\n",
      "Training Loss : -0.1506915108036445\n",
      "Train Accuracy: 37.60% \n",
      "\n",
      "accuracy of each client: [0.15, 0.35, 0.46, 0.1, 0.55, 0.25, 0.41, 0.21, 0.58, 0.7]\n",
      "| Global Round: 2 | Client:4 | Local Epoch: 0 | \tLoss: -0.154274| Accuracy: 0.4334235491883842\n",
      "| Global Round: 2 | Client:4 | Local Epoch: 1 | \tLoss: -0.173013| Accuracy: 0.5284232718350333\n",
      "| Global Round: 2 | Client:4 | Local Epoch: 2 | \tLoss: -0.200176| Accuracy: 0.5826115023213541\n",
      "| Global Round: 2 | Client:4 | Local Epoch: 3 | \tLoss: -0.229863| Accuracy: 0.6018237511990029\n",
      "| Global Round: 2 | Client:4 | Local Epoch: 4 | \tLoss: -0.263406| Accuracy: 0.6070638414954375\n",
      "| Global Round: 2 | Client:9 | Local Epoch: 0 | \tLoss: -0.186148| Accuracy: 0.5464548918699867\n",
      "| Global Round: 2 | Client:9 | Local Epoch: 1 | \tLoss: -0.221344| Accuracy: 0.6258336514321121\n",
      "| Global Round: 2 | Client:9 | Local Epoch: 2 | \tLoss: -0.264823| Accuracy: 0.6863680090838103\n",
      "| Global Round: 2 | Client:9 | Local Epoch: 3 | \tLoss: -0.314056| Accuracy: 0.7119754855547736\n",
      "| Global Round: 2 | Client:9 | Local Epoch: 4 | \tLoss: -0.362306| Accuracy: 0.7246097401530859\n",
      "| Global Round: 2 | Client:7 | Local Epoch: 0 | \tLoss: -0.128200| Accuracy: 0.22301158893385128\n",
      "| Global Round: 2 | Client:7 | Local Epoch: 1 | \tLoss: -0.140269| Accuracy: 0.2562156411478601\n",
      "| Global Round: 2 | Client:7 | Local Epoch: 2 | \tLoss: -0.151435| Accuracy: 0.2832844812862376\n",
      "| Global Round: 2 | Client:7 | Local Epoch: 3 | \tLoss: -0.165427| Accuracy: 0.35041721618025506\n",
      "| Global Round: 2 | Client:7 | Local Epoch: 4 | \tLoss: -0.179687| Accuracy: 0.3933831305240006\n"
     ]
    },
    {
     "name": "stderr",
     "output_type": "stream",
     "text": [
      " 30%|████████████████████████▉                                                          | 3/10 [01:18<02:59, 25.58s/it]"
     ]
    },
    {
     "name": "stdout",
     "output_type": "stream",
     "text": [
      " \n",
      "Avg Training Stats after 3 global rounds:\n",
      "Training Loss : -0.17011492776867418\n",
      "Train Accuracy: 33.60% \n",
      "\n",
      "accuracy of each client: [0.15, 0.3, 0.24, 0.06, 0.63, 0.2, 0.43, 0.2, 0.4, 0.75]\n",
      "| Global Round: 3 | Client:3 | Local Epoch: 0 | \tLoss: -0.099612| Accuracy: 0.09688387357121486\n",
      "| Global Round: 3 | Client:3 | Local Epoch: 1 | \tLoss: -0.116155| Accuracy: 0.15669487561175335\n",
      "| Global Round: 3 | Client:3 | Local Epoch: 2 | \tLoss: -0.136594| Accuracy: 0.24671567313012455\n",
      "| Global Round: 3 | Client:3 | Local Epoch: 3 | \tLoss: -0.158005| Accuracy: 0.3568696281488478\n",
      "| Global Round: 3 | Client:3 | Local Epoch: 4 | \tLoss: -0.183315| Accuracy: 0.4600413852725878\n",
      "| Global Round: 3 | Client:1 | Local Epoch: 0 | \tLoss: -0.144702| Accuracy: 0.26504341613418664\n",
      "| Global Round: 3 | Client:1 | Local Epoch: 1 | \tLoss: -0.157918| Accuracy: 0.3146035480057941\n",
      "| Global Round: 3 | Client:1 | Local Epoch: 2 | \tLoss: -0.173178| Accuracy: 0.3716148238711702\n",
      "| Global Round: 3 | Client:1 | Local Epoch: 3 | \tLoss: -0.186746| Accuracy: 0.42838736034739533\n",
      "| Global Round: 3 | Client:1 | Local Epoch: 4 | \tLoss: -0.208769| Accuracy: 0.4907491328643191\n",
      "| Global Round: 3 | Client:9 | Local Epoch: 0 | \tLoss: -0.286282| Accuracy: 0.7289703624965569\n",
      "| Global Round: 3 | Client:9 | Local Epoch: 1 | \tLoss: -0.327445| Accuracy: 0.7133248296309611\n",
      "| Global Round: 3 | Client:9 | Local Epoch: 2 | \tLoss: -0.385211| Accuracy: 0.735342322841665\n",
      "| Global Round: 3 | Client:9 | Local Epoch: 3 | \tLoss: -0.430796| Accuracy: 0.7334232689270813\n",
      "| Global Round: 3 | Client:9 | Local Epoch: 4 | \tLoss: -0.468835| Accuracy: 0.732814027174252\n"
     ]
    },
    {
     "name": "stderr",
     "output_type": "stream",
     "text": [
      " 40%|█████████████████████████████████▏                                                 | 4/10 [01:45<02:37, 26.19s/it]"
     ]
    },
    {
     "name": "stdout",
     "output_type": "stream",
     "text": [
      " \n",
      "Avg Training Stats after 4 global rounds:\n",
      "Training Loss : -0.18531228480405762\n",
      "Train Accuracy: 34.00% \n",
      "\n",
      "accuracy of each client: [0.17, 0.37, 0.18, 0.11, 0.68, 0.18, 0.41, 0.16, 0.38, 0.76]\n",
      "| Global Round: 4 | Client:4 | Local Epoch: 0 | \tLoss: -0.292907| Accuracy: 0.6318484169351987\n",
      "| Global Round: 4 | Client:4 | Local Epoch: 1 | \tLoss: -0.337516| Accuracy: 0.6439644405316439\n",
      "| Global Round: 4 | Client:4 | Local Epoch: 2 | \tLoss: -0.369766| Accuracy: 0.6410599150100773\n",
      "| Global Round: 4 | Client:4 | Local Epoch: 3 | \tLoss: -0.406843| Accuracy: 0.6378362457642577\n",
      "| Global Round: 4 | Client:4 | Local Epoch: 4 | \tLoss: -0.431017| Accuracy: 0.6151156381084214\n",
      "| Global Round: 4 | Client:1 | Local Epoch: 0 | \tLoss: -0.181848| Accuracy: 0.34348648573813384\n",
      "| Global Round: 4 | Client:1 | Local Epoch: 1 | \tLoss: -0.203428| Accuracy: 0.42977267362940175\n",
      "| Global Round: 4 | Client:1 | Local Epoch: 2 | \tLoss: -0.218896| Accuracy: 0.46358809663317646\n",
      "| Global Round: 4 | Client:1 | Local Epoch: 3 | \tLoss: -0.240151| Accuracy: 0.5133670855961637\n",
      "| Global Round: 4 | Client:1 | Local Epoch: 4 | \tLoss: -0.257268| Accuracy: 0.5271746493058905\n",
      "| Global Round: 4 | Client:7 | Local Epoch: 0 | \tLoss: -0.140987| Accuracy: 0.20991081501570438\n",
      "| Global Round: 4 | Client:7 | Local Epoch: 1 | \tLoss: -0.159220| Accuracy: 0.28600638364307795\n",
      "| Global Round: 4 | Client:7 | Local Epoch: 2 | \tLoss: -0.176824| Accuracy: 0.34065627270409254\n",
      "| Global Round: 4 | Client:7 | Local Epoch: 3 | \tLoss: -0.197407| Accuracy: 0.40966991628717364\n",
      "| Global Round: 4 | Client:7 | Local Epoch: 4 | \tLoss: -0.216167| Accuracy: 0.46622498779815785\n"
     ]
    },
    {
     "name": "stderr",
     "output_type": "stream",
     "text": [
      " 50%|█████████████████████████████████████████▌                                         | 5/10 [02:10<02:08, 25.63s/it]"
     ]
    },
    {
     "name": "stdout",
     "output_type": "stream",
     "text": [
      " \n",
      "Avg Training Stats after 5 global rounds:\n",
      "Training Loss : -0.1993197615565379\n",
      "Train Accuracy: 40.30% \n",
      "\n",
      "accuracy of each client: [0.24, 0.47, 0.21, 0.26, 0.7, 0.22, 0.45, 0.3, 0.44, 0.74]\n",
      "| Global Round: 5 | Client:5 | Local Epoch: 0 | \tLoss: -0.150024| Accuracy: 0.21971338710741728\n",
      "| Global Round: 5 | Client:5 | Local Epoch: 1 | \tLoss: -0.171884| Accuracy: 0.3115816340053339\n",
      "| Global Round: 5 | Client:5 | Local Epoch: 2 | \tLoss: -0.196065| Accuracy: 0.4245212265962202\n",
      "| Global Round: 5 | Client:5 | Local Epoch: 3 | \tLoss: -0.225693| Accuracy: 0.5060581845820421\n",
      "| Global Round: 5 | Client:5 | Local Epoch: 4 | \tLoss: -0.260260| Accuracy: 0.5681158983464809\n",
      "| Global Round: 5 | Client:8 | Local Epoch: 0 | \tLoss: -0.194218| Accuracy: 0.3713804933782802\n",
      "| Global Round: 5 | Client:8 | Local Epoch: 1 | \tLoss: -0.226693| Accuracy: 0.45243899581952357\n",
      "| Global Round: 5 | Client:8 | Local Epoch: 2 | \tLoss: -0.257043| Accuracy: 0.5010893216526577\n",
      "| Global Round: 5 | Client:8 | Local Epoch: 3 | \tLoss: -0.286783| Accuracy: 0.5265996813603189\n",
      "| Global Round: 5 | Client:8 | Local Epoch: 4 | \tLoss: -0.315629| Accuracy: 0.5502576074745089\n",
      "| Global Round: 5 | Client:6 | Local Epoch: 0 | \tLoss: -0.257293| Accuracy: 0.4579897952206166\n",
      "| Global Round: 5 | Client:6 | Local Epoch: 1 | \tLoss: -0.275787| Accuracy: 0.5009012210307315\n",
      "| Global Round: 5 | Client:6 | Local Epoch: 2 | \tLoss: -0.301910| Accuracy: 0.5501947613071807\n",
      "| Global Round: 5 | Client:6 | Local Epoch: 3 | \tLoss: -0.325595| Accuracy: 0.6025329084886176\n",
      "| Global Round: 5 | Client:6 | Local Epoch: 4 | \tLoss: -0.358034| Accuracy: 0.6547913366701222\n"
     ]
    },
    {
     "name": "stderr",
     "output_type": "stream",
     "text": [
      " 60%|█████████████████████████████████████████████████▊                                 | 6/10 [02:35<01:42, 25.65s/it]"
     ]
    },
    {
     "name": "stdout",
     "output_type": "stream",
     "text": [
      " \n",
      "Avg Training Stats after 6 global rounds:\n",
      "Training Loss : -0.2083543673747139\n",
      "Train Accuracy: 46.80% \n",
      "\n",
      "accuracy of each client: [0.29, 0.52, 0.43, 0.18, 0.77, 0.44, 0.49, 0.24, 0.56, 0.76]\n",
      "| Global Round: 6 | Client:7 | Local Epoch: 0 | \tLoss: -0.182141| Accuracy: 0.2661152740673741\n",
      "| Global Round: 6 | Client:7 | Local Epoch: 1 | \tLoss: -0.204005| Accuracy: 0.34862753131315727\n",
      "| Global Round: 6 | Client:7 | Local Epoch: 2 | \tLoss: -0.223918| Accuracy: 0.4216710718621706\n",
      "| Global Round: 6 | Client:7 | Local Epoch: 3 | \tLoss: -0.241174| Accuracy: 0.46665932253375403\n",
      "| Global Round: 6 | Client:7 | Local Epoch: 4 | \tLoss: -0.260353| Accuracy: 0.529488153010762\n",
      "| Global Round: 6 | Client:5 | Local Epoch: 0 | \tLoss: -0.198420| Accuracy: 0.39074097607344843\n",
      "| Global Round: 6 | Client:5 | Local Epoch: 1 | \tLoss: -0.229143| Accuracy: 0.48691877920193305\n",
      "| Global Round: 6 | Client:5 | Local Epoch: 2 | \tLoss: -0.264003| Accuracy: 0.5496908361247006\n",
      "| Global Round: 6 | Client:5 | Local Epoch: 3 | \tLoss: -0.298670| Accuracy: 0.5835976297557018\n",
      "| Global Round: 6 | Client:5 | Local Epoch: 4 | \tLoss: -0.335873| Accuracy: 0.5982876458297256\n",
      "| Global Round: 6 | Client:4 | Local Epoch: 0 | \tLoss: -0.347469| Accuracy: 0.6472762963925132\n",
      "| Global Round: 6 | Client:4 | Local Epoch: 1 | \tLoss: -0.399858| Accuracy: 0.6686961664476585\n",
      "| Global Round: 6 | Client:4 | Local Epoch: 2 | \tLoss: -0.432503| Accuracy: 0.6648964257907662\n",
      "| Global Round: 6 | Client:4 | Local Epoch: 3 | \tLoss: -0.463180| Accuracy: 0.6643439012166119\n",
      "| Global Round: 6 | Client:4 | Local Epoch: 4 | \tLoss: -0.487155| Accuracy: 0.654850730958692\n"
     ]
    },
    {
     "name": "stderr",
     "output_type": "stream",
     "text": [
      " 70%|██████████████████████████████████████████████████████████                         | 7/10 [03:00<01:15, 25.23s/it]"
     ]
    },
    {
     "name": "stdout",
     "output_type": "stream",
     "text": [
      " \n",
      "Avg Training Stats after 7 global rounds:\n",
      "Training Loss : -0.22209292706627967\n",
      "Train Accuracy: 46.20% \n",
      "\n",
      "accuracy of each client: [0.32, 0.44, 0.37, 0.17, 0.74, 0.53, 0.49, 0.28, 0.53, 0.75]\n",
      "| Global Round: 7 | Client:0 | Local Epoch: 0 | \tLoss: -0.189702| Accuracy: 0.32460386232265453\n",
      "| Global Round: 7 | Client:0 | Local Epoch: 1 | \tLoss: -0.216169| Accuracy: 0.4008916629083786\n",
      "| Global Round: 7 | Client:0 | Local Epoch: 2 | \tLoss: -0.238945| Accuracy: 0.48113219272154595\n",
      "| Global Round: 7 | Client:0 | Local Epoch: 3 | \tLoss: -0.264246| Accuracy: 0.5469277672099263\n",
      "| Global Round: 7 | Client:0 | Local Epoch: 4 | \tLoss: -0.284430| Accuracy: 0.5917404416957286\n",
      "| Global Round: 7 | Client:9 | Local Epoch: 0 | \tLoss: -0.399316| Accuracy: 0.7041308870918155\n",
      "| Global Round: 7 | Client:9 | Local Epoch: 1 | \tLoss: -0.463868| Accuracy: 0.7420334311153923\n",
      "| Global Round: 7 | Client:9 | Local Epoch: 2 | \tLoss: -0.514115| Accuracy: 0.7522344772766641\n",
      "| Global Round: 7 | Client:9 | Local Epoch: 3 | \tLoss: -0.567596| Accuracy: 0.7649426601445405\n",
      "| Global Round: 7 | Client:9 | Local Epoch: 4 | \tLoss: -0.590723| Accuracy: 0.7567364547278352\n",
      "| Global Round: 7 | Client:2 | Local Epoch: 0 | \tLoss: -0.211595| Accuracy: 0.4090872202519619\n",
      "| Global Round: 7 | Client:2 | Local Epoch: 1 | \tLoss: -0.280781| Accuracy: 0.600942062300544\n",
      "| Global Round: 7 | Client:2 | Local Epoch: 2 | \tLoss: -0.354599| Accuracy: 0.7265058778519993\n",
      "| Global Round: 7 | Client:2 | Local Epoch: 3 | \tLoss: -0.419906| Accuracy: 0.7604101374483566\n",
      "| Global Round: 7 | Client:2 | Local Epoch: 4 | \tLoss: -0.481208| Accuracy: 0.7738957274068748\n"
     ]
    },
    {
     "name": "stderr",
     "output_type": "stream",
     "text": [
      " 80%|██████████████████████████████████████████████████████████████████▍                | 8/10 [03:26<00:50, 25.48s/it]"
     ]
    },
    {
     "name": "stdout",
     "output_type": "stream",
     "text": [
      " \n",
      "Avg Training Stats after 8 global rounds:\n",
      "Training Loss : -0.23997463035103261\n",
      "Train Accuracy: 58.10% \n",
      "\n",
      "accuracy of each client: [0.5, 0.42, 0.77, 0.16, 0.72, 0.52, 0.8, 0.49, 0.58, 0.85]\n",
      "| Global Round: 8 | Client:3 | Local Epoch: 0 | \tLoss: -0.161594| Accuracy: 0.21196853341736582\n",
      "| Global Round: 8 | Client:3 | Local Epoch: 1 | \tLoss: -0.192597| Accuracy: 0.3069942952435984\n",
      "| Global Round: 8 | Client:3 | Local Epoch: 2 | \tLoss: -0.227011| Accuracy: 0.42229821605413487\n",
      "| Global Round: 8 | Client:3 | Local Epoch: 3 | \tLoss: -0.265069| Accuracy: 0.5319536865832661\n",
      "| Global Round: 8 | Client:3 | Local Epoch: 4 | \tLoss: -0.298202| Accuracy: 0.6017805577243655\n",
      "| Global Round: 8 | Client:9 | Local Epoch: 0 | \tLoss: -0.495790| Accuracy: 0.7930397774341261\n",
      "| Global Round: 8 | Client:9 | Local Epoch: 1 | \tLoss: -0.554568| Accuracy: 0.8116532828844162\n",
      "| Global Round: 8 | Client:9 | Local Epoch: 2 | \tLoss: -0.594064| Accuracy: 0.8042737928338596\n",
      "| Global Round: 8 | Client:9 | Local Epoch: 3 | \tLoss: -0.627729| Accuracy: 0.7964523557562792\n",
      "| Global Round: 8 | Client:9 | Local Epoch: 4 | \tLoss: -0.645816| Accuracy: 0.7892592446031054\n",
      "| Global Round: 8 | Client:1 | Local Epoch: 0 | \tLoss: -0.234114| Accuracy: 0.3893015514745066\n",
      "| Global Round: 8 | Client:1 | Local Epoch: 1 | \tLoss: -0.251369| Accuracy: 0.437122335926899\n",
      "| Global Round: 8 | Client:1 | Local Epoch: 2 | \tLoss: -0.274665| Accuracy: 0.497365929470375\n",
      "| Global Round: 8 | Client:1 | Local Epoch: 3 | \tLoss: -0.304625| Accuracy: 0.5512327004534499\n",
      "| Global Round: 8 | Client:1 | Local Epoch: 4 | \tLoss: -0.322479| Accuracy: 0.5809228208113609\n"
     ]
    },
    {
     "name": "stderr",
     "output_type": "stream",
     "text": [
      " 90%|██████████████████████████████████████████████████████████████████████████▋        | 9/10 [03:53<00:26, 26.14s/it]"
     ]
    },
    {
     "name": "stdout",
     "output_type": "stream",
     "text": [
      " \n",
      "Avg Training Stats after 9 global rounds:\n",
      "Training Loss : -0.2536788701326976\n",
      "Train Accuracy: 61.20% \n",
      "\n",
      "accuracy of each client: [0.54, 0.58, 0.68, 0.37, 0.76, 0.49, 0.75, 0.52, 0.59, 0.84]\n",
      "| Global Round: 9 | Client:6 | Local Epoch: 0 | \tLoss: -0.396807| Accuracy: 0.6606291606139302\n",
      "| Global Round: 9 | Client:6 | Local Epoch: 1 | \tLoss: -0.422473| Accuracy: 0.6873008190179286\n",
      "| Global Round: 9 | Client:6 | Local Epoch: 2 | \tLoss: -0.459163| Accuracy: 0.7257660242132816\n",
      "| Global Round: 9 | Client:6 | Local Epoch: 3 | \tLoss: -0.487375| Accuracy: 0.7431384610119482\n",
      "| Global Round: 9 | Client:6 | Local Epoch: 4 | \tLoss: -0.509459| Accuracy: 0.75904815517526\n",
      "| Global Round: 9 | Client:8 | Local Epoch: 0 | \tLoss: -0.266898| Accuracy: 0.4691445432510654\n",
      "| Global Round: 9 | Client:8 | Local Epoch: 1 | \tLoss: -0.304605| Accuracy: 0.5522300394432501\n",
      "| Global Round: 9 | Client:8 | Local Epoch: 2 | \tLoss: -0.339463| Accuracy: 0.6029882035371208\n",
      "| Global Round: 9 | Client:8 | Local Epoch: 3 | \tLoss: -0.371786| Accuracy: 0.6111137171070237\n",
      "| Global Round: 9 | Client:8 | Local Epoch: 4 | \tLoss: -0.404594| Accuracy: 0.6306158616467615\n",
      "| Global Round: 9 | Client:2 | Local Epoch: 0 | \tLoss: -0.314952| Accuracy: 0.583524601403318\n",
      "| Global Round: 9 | Client:2 | Local Epoch: 1 | \tLoss: -0.393979| Accuracy: 0.7122527607537108\n",
      "| Global Round: 9 | Client:2 | Local Epoch: 2 | \tLoss: -0.465130| Accuracy: 0.7599048438718029\n",
      "| Global Round: 9 | Client:2 | Local Epoch: 3 | \tLoss: -0.531101| Accuracy: 0.7957555677528593\n",
      "| Global Round: 9 | Client:2 | Local Epoch: 4 | \tLoss: -0.565875| Accuracy: 0.7789616020512892\n"
     ]
    },
    {
     "name": "stderr",
     "output_type": "stream",
     "text": [
      "100%|██████████████████████████████████████████████████████████████████████████████████| 10/10 [04:19<00:00, 25.94s/it]"
     ]
    },
    {
     "name": "stdout",
     "output_type": "stream",
     "text": [
      " \n",
      "Avg Training Stats after 10 global rounds:\n",
      "Training Loss : -0.26986871597045536\n",
      "Train Accuracy: 59.70% \n",
      "\n",
      "accuracy of each client: [0.5, 0.51, 0.84, 0.19, 0.71, 0.45, 0.85, 0.46, 0.64, 0.82]\n",
      " \n",
      " Results after 10 global rounds of training:\n",
      "|---- Avg Train Accuracy: 59.70%\n",
      "|---- Test Accuracy: 44.20%\n",
      "\n",
      " Total Run Time: 265.8557\n"
     ]
    },
    {
     "name": "stderr",
     "output_type": "stream",
     "text": [
      "\n"
     ]
    },
    {
     "data": {
      "image/png": "[encoded data removed]",
      "text/plain": [
       "<Figure size 720x720 with 2 Axes>"
      ]
     },
     "metadata": {
      "needs_background": "light"
     },
     "output_type": "display_data"
    }
   ],
   "source": [
    "%run FL_main.py --iid=0 --frac=0.3 --local_ep=5 "
   ]
  },
  {
   "cell_type": "code",
   "execution_count": null,
   "id": "713cd83f-4656-452e-af79-0bc6e988d4e0",
   "metadata": {},
   "outputs": [],
   "source": []
  }
 ],
 "metadata": {
  "kernelspec": {
   "display_name": "Python 3 (ipykernel)",
   "language": "python",
   "name": "python3"
  },
  "language_info": {
   "codemirror_mode": {
    "name": "ipython",
    "version": 3
   },
   "file_extension": ".py",
   "mimetype": "text/x-python",
   "name": "python",
   "nbconvert_exporter": "python",
   "pygments_lexer": "ipython3",
   "version": "3.9.12"
  }
 },
 "nbformat": 4,
 "nbformat_minor": 5
}
